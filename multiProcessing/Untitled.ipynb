{
 "cells": [
  {
   "cell_type": "code",
   "execution_count": 1,
   "id": "liked-smoke",
   "metadata": {},
   "outputs": [],
   "source": [
    "import torch"
   ]
  },
  {
   "cell_type": "code",
   "execution_count": 2,
   "id": "handed-mongolia",
   "metadata": {},
   "outputs": [],
   "source": [
    "from multiprocessing import Pool"
   ]
  },
  {
   "cell_type": "code",
   "execution_count": 3,
   "id": "entertaining-watershed",
   "metadata": {},
   "outputs": [],
   "source": [
    "import time"
   ]
  },
  {
   "cell_type": "code",
   "execution_count": null,
   "id": "democratic-possible",
   "metadata": {},
   "outputs": [],
   "source": [
    "def f(x):\n",
    "    return x*x"
   ]
  },
  {
   "cell_type": "code",
   "execution_count": null,
   "id": "palestinian-partition",
   "metadata": {
    "scrolled": true
   },
   "outputs": [],
   "source": [
    "start = time.time()\n",
    "with Pool(5) as p:\n",
    "    a = p.map(f, [i for i in range(int(1e8))])\n",
    "\n",
    "print(time.time() - start)"
   ]
  },
  {
   "cell_type": "code",
   "execution_count": null,
   "id": "alternative-porcelain",
   "metadata": {},
   "outputs": [],
   "source": [
    "from multiprocessing import Process\n",
    "import os\n",
    "\n",
    "def info(title):\n",
    "    print(title)\n",
    "    print('module name : ', __name__)\n",
    "    print('parent process', os.getppid())\n",
    "    print('process id : ', os.getpid())\n",
    "def f(name):\n",
    "    info('function f')\n",
    "    print('hello, ', name)"
   ]
  },
  {
   "cell_type": "code",
   "execution_count": null,
   "id": "meaningful-reasoning",
   "metadata": {},
   "outputs": [],
   "source": [
    "info('main line')\n",
    "\n",
    "p = Process(target=f, args=('bob',))\n",
    "p.start()\n"
   ]
  },
  {
   "cell_type": "code",
   "execution_count": null,
   "id": "fiscal-supervisor",
   "metadata": {},
   "outputs": [],
   "source": [
    "import multiprocessing as mp\n",
    "def foo(q):\n",
    "    q.put('hello')\n",
    "\n",
    "# mp.set_start_method('spawn')\n",
    "q = mp.Queue()\n",
    "p = mp.Process(target=foo, args=(q,))\n",
    "p.start()\n",
    "\n",
    "print(q.get())\n",
    "p.join()"
   ]
  },
  {
   "cell_type": "code",
   "execution_count": 25,
   "id": "short-assurance",
   "metadata": {},
   "outputs": [
    {
     "name": "stdout",
     "output_type": "stream",
     "text": [
      "[0, 1, 4, 9, 16, 25, 36, 49, 64, 81]\n",
      "---------------\n",
      "0\n",
      "1\n",
      "4\n",
      "9\n",
      "16\n",
      "25\n",
      "49\n",
      "36\n",
      "64\n",
      "81\n",
      "---------------\n",
      "400\n",
      "[400, 400, 400, 400]\n",
      "0.1311173439025879\n"
     ]
    }
   ],
   "source": [
    "start = time.time()\n",
    "def f(x):\n",
    "    return x*x\n",
    "with Pool(5) as pool:\n",
    "    print(pool.map(f, range(10)))\n",
    "    print('---------------')\n",
    "    for i in pool.imap_unordered(f, range(10)):\n",
    "        print(i)\n",
    "    print('---------------')\n",
    "    res = pool.apply_async(f, (20,))\n",
    "    print(res.get(timeout=1))\n",
    "    \n",
    "    multiple_results = [pool.apply_async(f, (20,)) for i in range(4)]\n",
    "    print([res.get(timeout=1) for res in multiple_results])\n",
    "    \n",
    "    \n",
    "    \n",
    "\n",
    "print(time.time() - start)"
   ]
  },
  {
   "cell_type": "code",
   "execution_count": null,
   "id": "stretch-worship",
   "metadata": {},
   "outputs": [],
   "source": []
  },
  {
   "cell_type": "code",
   "execution_count": null,
   "id": "dominant-adapter",
   "metadata": {},
   "outputs": [],
   "source": []
  }
 ],
 "metadata": {
  "kernelspec": {
   "display_name": "Python 3",
   "language": "python",
   "name": "python3"
  },
  "language_info": {
   "codemirror_mode": {
    "name": "ipython",
    "version": 3
   },
   "file_extension": ".py",
   "mimetype": "text/x-python",
   "name": "python",
   "nbconvert_exporter": "python",
   "pygments_lexer": "ipython3",
   "version": "3.6.12"
  }
 },
 "nbformat": 4,
 "nbformat_minor": 5
}
