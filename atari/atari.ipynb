{
  "nbformat": 4,
  "nbformat_minor": 0,
  "metadata": {
    "colab": {
      "name": "atari.ipynb",
      "provenance": [],
      "mount_file_id": "12GndDZloPg-pc8dIiftbnp1K-X4Dhl1j",
      "authorship_tag": "ABX9TyMx249H8lJEli1EB5n2z8VK"
    },
    "kernelspec": {
      "name": "python3",
      "display_name": "Python 3"
    },
    "language_info": {
      "name": "python"
    },
    "accelerator": "GPU"
  },
  "cells": [
    {
      "cell_type": "code",
      "metadata": {
        "colab": {
          "base_uri": "https://localhost:8080/"
        },
        "id": "lKqYF4YwtbuS",
        "outputId": "7685e1d1-ff08-47d9-d305-aced542f93fc"
      },
      "source": [
        "!nvidia-smi"
      ],
      "execution_count": 1,
      "outputs": [
        {
          "output_type": "stream",
          "text": [
            "Fri Aug 20 13:18:01 2021       \n",
            "+-----------------------------------------------------------------------------+\n",
            "| NVIDIA-SMI 470.57.02    Driver Version: 460.32.03    CUDA Version: 11.2     |\n",
            "|-------------------------------+----------------------+----------------------+\n",
            "| GPU  Name        Persistence-M| Bus-Id        Disp.A | Volatile Uncorr. ECC |\n",
            "| Fan  Temp  Perf  Pwr:Usage/Cap|         Memory-Usage | GPU-Util  Compute M. |\n",
            "|                               |                      |               MIG M. |\n",
            "|===============================+======================+======================|\n",
            "|   0  Tesla V100-SXM2...  Off  | 00000000:00:04.0 Off |                    0 |\n",
            "| N/A   36C    P0    24W / 300W |      0MiB / 16160MiB |      0%      Default |\n",
            "|                               |                      |                  N/A |\n",
            "+-------------------------------+----------------------+----------------------+\n",
            "                                                                               \n",
            "+-----------------------------------------------------------------------------+\n",
            "| Processes:                                                                  |\n",
            "|  GPU   GI   CI        PID   Type   Process name                  GPU Memory |\n",
            "|        ID   ID                                                   Usage      |\n",
            "|=============================================================================|\n",
            "|  No running processes found                                                 |\n",
            "+-----------------------------------------------------------------------------+\n"
          ],
          "name": "stdout"
        }
      ]
    },
    {
      "cell_type": "code",
      "metadata": {
        "id": "RnXIGQr2tewt"
      },
      "source": [
        "import os\n",
        "os.chdir('/content/drive/MyDrive/jihoon/colab')"
      ],
      "execution_count": 2,
      "outputs": []
    },
    {
      "cell_type": "code",
      "metadata": {
        "id": "u_22yqMXuwRU"
      },
      "source": [
        "! wget http://www.atarimania.com/roms/Roms.rar\n",
        "! unrar e ./Roms.rar ./ROM/\n",
        "! python -m atari_py.import_roms ./ROM/"
      ],
      "execution_count": null,
      "outputs": []
    },
    {
      "cell_type": "code",
      "metadata": {
        "id": "hKlF2rMSwa6S"
      },
      "source": [
        "import gym\n",
        "env = gym.make('Breakout-v0')"
      ],
      "execution_count": 15,
      "outputs": []
    },
    {
      "cell_type": "code",
      "metadata": {
        "colab": {
          "base_uri": "https://localhost:8080/"
        },
        "id": "rSxJ4YTZu0oW",
        "outputId": "fb6f2173-5b78-4262-bacd-53cade2f8ff3"
      },
      "source": [
        "ep = 10\n",
        "\n",
        "for i in range(ep):\n",
        "  obs = env.reset()\n",
        "  reward = 0\n",
        "  while True:\n",
        "    n_obs, r, d, _ = env.step(env.action_space.sample())\n",
        "    reward += r\n",
        "    if d:\n",
        "      break\n",
        "    obs = n_obs\n",
        "  print(\"Ep {} score : {}\".format(i, reward))"
      ],
      "execution_count": 16,
      "outputs": [
        {
          "output_type": "stream",
          "text": [
            "Ep 0 score : 2.0\n",
            "Ep 1 score : 0.0\n",
            "Ep 2 score : 0.0\n",
            "Ep 3 score : 2.0\n",
            "Ep 4 score : 1.0\n",
            "Ep 5 score : 2.0\n",
            "Ep 6 score : 2.0\n",
            "Ep 7 score : 0.0\n",
            "Ep 8 score : 0.0\n",
            "Ep 9 score : 0.0\n"
          ],
          "name": "stdout"
        }
      ]
    },
    {
      "cell_type": "code",
      "metadata": {
        "id": "WtARKcSwvSN_"
      },
      "source": [
        ""
      ],
      "execution_count": null,
      "outputs": []
    }
  ]
}