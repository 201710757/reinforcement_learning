{
 "cells": [
  {
   "cell_type": "code",
   "execution_count": 2,
   "id": "terminal-chapel",
   "metadata": {},
   "outputs": [],
   "source": [
    "import torch\n",
    "import numpy as np\n",
    "import torch.nn.functional as F\n",
    "import torch.nn as nn\n",
    "from DQN import qnet\n",
    "from ReplayMemory import ReplayMemory"
   ]
  },
  {
   "cell_type": "code",
   "execution_count": 3,
   "id": "valuable-white",
   "metadata": {},
   "outputs": [],
   "source": [
    "REPLAY_MEMORY = 10000\n",
    "BATCH_SIZE = 128\n",
    "LR = 1e-4\n",
    "GAMMA = 0.99"
   ]
  },
  {
   "cell_type": "code",
   "execution_count": 4,
   "id": "dress-lighting",
   "metadata": {},
   "outputs": [],
   "source": [
    "device = torch.device('cuda:0' if torch.cuda.is_available() else 'cpu')\n",
    "\n",
    "N_ATOM = 51\n",
    "V_MIN = -10.\n",
    "V_MAX = 10.\n",
    "V_STEP = ((V_MAX-V_MIN)/(N_ATOM-1))\n",
    "V_RANGE = np.linspace(V_MIN, V_MAX, 51) # this is why C51"
   ]
  },
  {
   "cell_type": "code",
   "execution_count": 5,
   "id": "sitting-scenario",
   "metadata": {},
   "outputs": [],
   "source": [
    "exploration_rate = 1\n",
    "max_exploration_rate = 1\n",
    "min_exploration_rate = 0.01\n",
    "exploration_decay_rate = 0.01"
   ]
  },
  {
   "cell_type": "code",
   "execution_count": 6,
   "id": "every-response",
   "metadata": {},
   "outputs": [],
   "source": [
    "TARGET_UPDATE_FREQUENCY = 20"
   ]
  },
  {
   "cell_type": "code",
   "execution_count": 8,
   "id": "small-restaurant",
   "metadata": {},
   "outputs": [],
   "source": [
    "class C51(nn.Module):\n",
    "    N_ATOM = 51\n",
    "    REPLAY_MEMORY = 10000\n",
    "    LR = 1e-4\n",
    "    VMIN = -10.\n",
    "    VMAX = 10.\n",
    "    TARGET_UPDATE_FREQ = 20\n",
    "    \n",
    "    V_RANGE = np.linspace(V_MIN, V_MAX, N_ATOM)\n",
    "    \n",
    "    def __init__(self, inputs, outputs):\n",
    "        super(C51, self).__init__()\n",
    "        \n",
    "        self.state_size = inputs\n",
    "        self.action_size = outputs\n",
    "        \n",
    "        self.target_net, self.pred_net = qnet(inputs, outputs * N_ATOM), qnet(inputs, outputs * N_ATOM)\n",
    "        self.update_target()\n",
    "        \n",
    "        self.pred_net.to(device) # 확률값들\n",
    "        self.target_net.to(device) # 확률값들\n",
    "        \n",
    "        self.memory_counter = 0\n",
    "        self.learn_step = 0\n",
    "        \n",
    "        self.replay_buffer = ReplayMemory(REPLAY_MEMORY)\n",
    "        \n",
    "        self.optimizer = torch.optim.Adam(self.pred_net.parameters(), lr = LR)\n",
    "        \n",
    "        self.value_range = torch.FloatTensor(V_RANGE).to(device)\n",
    "        \n",
    "    def store_transition(self, s, a, r, n_s, d):\n",
    "        self.memory_counter += 1\n",
    "        self.replay_buffer.push(s, a, r, n_s, d)\n",
    "    \n",
    "    def pick_action(self, x, ep):\n",
    "        x = torch.FloatTensor(x)\n",
    "        x = x.to(device)\n",
    "        \n",
    "        if np.random.uniform() > ep:\n",
    "            action_value_dist = self.pred_net(x)\n",
    "            \n",
    "            # need to repair <- not good version\n",
    "            action_value = action_value_dist * np.r_[self.value_range, self.value_range]\n",
    "            action_value = action_value.view(self.action_size, -1)\n",
    "            action_value = torch.sum(action_value, axis=1)\n",
    "            \n",
    "            action = torch.argmax(action_value).data.cpu().numpy()\n",
    "        \n",
    "        return x\n",
    "    \n",
    "    def learn(self):\n",
    "        self.learn_step += 1\n",
    "        if self.learn_step % TARGET_UPDATE_FREQ == 0:\n",
    "            self.update_target()\n",
    "            \n",
    "        \n",
    "        \n",
    "        pass\n",
    "    \n",
    "    def update_target(self):\n",
    "        self.target_net.load_state_dict(self.pred_net.state_dict())"
   ]
  }
 ],
 "metadata": {
  "kernelspec": {
   "display_name": "Python 3",
   "language": "python",
   "name": "python3"
  },
  "language_info": {
   "codemirror_mode": {
    "name": "ipython",
    "version": 3
   },
   "file_extension": ".py",
   "mimetype": "text/x-python",
   "name": "python",
   "nbconvert_exporter": "python",
   "pygments_lexer": "ipython3",
   "version": "3.6.12"
  }
 },
 "nbformat": 4,
 "nbformat_minor": 5
}
